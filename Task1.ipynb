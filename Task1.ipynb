{
 "cells": [
  {
   "cell_type": "markdown",
   "metadata": {},
   "source": [
    "# Hàm Valid_Matrix để thêm cái weight vào với nhau "
   ]
  },
  {
   "cell_type": "code",
   "execution_count": 1,
   "metadata": {},
   "outputs": [
    {
     "name": "stdout",
     "output_type": "stream",
     "text": [
      "True\n"
     ]
    }
   ],
   "source": [
    "import numpy as np \n",
    "from numba import njit \n",
    "def is_linearly_independent(matrix):\n",
    "    rank = np.linalg.matrix_rank(matrix)\n",
    "    return rank == matrix.shape[0]\n",
    "# Test the function\n",
    "matrix = np.array([[0.,1.,-1., 0.], [-1.,0., 0.,1.], [1.,0., 0.,1.]])\n",
    "print(is_linearly_independent(matrix))  # True\n"
   ]
  },
  {
   "cell_type": "markdown",
   "metadata": {},
   "source": [
    "# Cách rút gọn search space để tìm bộ weight "
   ]
  },
  {
   "cell_type": "markdown",
   "metadata": {},
   "source": [
    "# Tạo ra toàn bộ search space cho weight của 1 feature "
   ]
  },
  {
   "cell_type": "code",
   "execution_count": 2,
   "metadata": {},
   "outputs": [
    {
     "name": "stdout",
     "output_type": "stream",
     "text": [
      "[[ 1 -1  0 ...  0  0  0]\n",
      " [ 1  0 -1 ...  0  0  0]\n",
      " [ 1  0  0 ...  0  0  0]\n",
      " ...\n",
      " [ 0  0  0 ...  0  0  1]\n",
      " [ 0  0  0 ... -1  0  1]\n",
      " [ 0  0  0 ...  0 -1  1]]\n"
     ]
    }
   ],
   "source": [
    "size = 161\n",
    "\n",
    "# generate all possible combinations of indices for the 1 and -1\n",
    "combinations = [(i, j) for i in range(size) for j in range(size) if i != j]\n",
    "\n",
    "# create the arrays using the combinations\n",
    "arrays = []\n",
    "for (i, j) in combinations:\n",
    "  arr = [0] * size\n",
    "  arr[i] = 1\n",
    "  arr[j] = -1\n",
    "  arrays.append(arr)\n",
    "\n",
    "# print the resulting arrays\n",
    "print(np.array(arrays))\n"
   ]
  },
  {
   "cell_type": "code",
   "execution_count": null,
   "metadata": {},
   "outputs": [],
   "source": [
    "import itertools\n",
    "\n",
    "def all_submatrices(matrix, num_rows):\n",
    "    # Get the number of rows and columns in the matrix\n",
    "    num_cols = len(matrix[0])\n",
    "    # Iterate over all possible combinations of rows\n",
    "    for combination in itertools.combinations(range(10), num_rows):\n",
    "        # Create a new submatrix using the selected rows\n",
    "        submatrix = [matrix[row] for row in combination]\n",
    "        yield np.array(submatrix)\n",
    "\n",
    "# Example usage\n",
    "all_submatris = []\n",
    "matrix = arrays\n",
    "for submatrix in all_submatrices(matrix, 5):\n",
    "    if is_linearly_independent(submatrix):\n",
    "        all_submatris.append(submatrix)\n",
    "        # print(submatrix)\n",
    "print((all_submatris)[0])\n",
    "print(len(all_submatris))\n"
   ]
  },
  {
   "cell_type": "code",
   "execution_count": 4,
   "metadata": {},
   "outputs": [
    {
     "name": "stdout",
     "output_type": "stream",
     "text": [
      "/Users/trancatkhanh/Downloads/GAME\n",
      "process : 240/252\r"
     ]
    }
   ],
   "source": [
    "%cd /Users/trancatkhanh/Downloads/GAME\n",
    "from base.Splendor_v3.env import *\n",
    "\n",
    "high_values_matrix = []\n",
    "k = 0\n",
    "for i in range(len(all_submatris)):\n",
    "    k +=1\n",
    "    perx = all_submatris[i].astype(np.float64)\n",
    "    @njit\n",
    "    def p0(state,per):\n",
    "        actions = getValidActions(state)\n",
    "        matran1 = per@state    \n",
    "        matran1 = 1*(matran1 >= 0)\n",
    "        if np.sum(matran1) == 5 and 0 in actions :\n",
    "            action = 0\n",
    "\n",
    "        return action,per\n",
    "    win1, x = numba_main_2(p0, 100,perx,0)\n",
    "    print('process : {}/{}'.format(k, len(all_submatris)), end='\\r')\n",
    "    high_values_matrix.append(i)\n"
   ]
  },
  {
   "cell_type": "code",
   "execution_count": null,
   "metadata": {},
   "outputs": [],
   "source": [
    "%cd /Users/trancatkhanh/Downloads/GAME\n",
    "from base.Splendor_v3.env import *\n",
    "\n",
    "high_values_matrix = []\n",
    "k = 0\n",
    "for i in range(len(all_submatris)):\n",
    "    k +=1\n",
    "    perx = all_submatris[i].astype(np.float64)\n",
    "    @njit\n",
    "    def p0(state,per):\n",
    "        actions = getValidActions(state)\n",
    "        matran1 = per@state    \n",
    "        matran1 = 1*(matran1 >= 0)\n",
    "        if np.sum(matran1) == 5 and 0 in actions :\n",
    "            action = 0\n",
    "\n",
    "        return action,per\n",
    "    win1, x = numba_main_2(p0, 100,perx,0)\n",
    "    print('process : {}/{}'.format(k, len(all_submatris)), end='\\r')\n",
    "    high_values_matrix.append(win1)"
   ]
  }
 ],
 "metadata": {
  "kernelspec": {
   "display_name": "Python 3.9.7 ('base')",
   "language": "python",
   "name": "python3"
  },
  "language_info": {
   "codemirror_mode": {
    "name": "ipython",
    "version": 3
   },
   "file_extension": ".py",
   "mimetype": "text/x-python",
   "name": "python",
   "nbconvert_exporter": "python",
   "pygments_lexer": "ipython3",
   "version": "3.9.7"
  },
  "orig_nbformat": 4,
  "vscode": {
   "interpreter": {
    "hash": "ff2136a0fe6bc790f1b40d257e6b1bba23119827483ea2b7c12c8cc23c661a47"
   }
  }
 },
 "nbformat": 4,
 "nbformat_minor": 2
}
