{
 "cells": [
  {
   "cell_type": "markdown",
   "metadata": {},
   "source": [
    "# Hàm Valid_Matrix để thêm cái weight vào với nhau "
   ]
  },
  {
   "cell_type": "code",
   "execution_count": 1,
   "metadata": {},
   "outputs": [
    {
     "name": "stdout",
     "output_type": "stream",
     "text": [
      "True\n"
     ]
    }
   ],
   "source": [
    "import numpy as np \n",
    "from numba import njit \n",
    "def is_linearly_independent(matrix):\n",
    "    rank = np.linalg.matrix_rank(matrix)\n",
    "    return rank == matrix.shape[0]\n"
   ]
  },
  {
   "cell_type": "markdown",
   "metadata": {},
   "source": [
    "# Cách rút gọn search space để tìm bộ weight "
   ]
  },
  {
   "cell_type": "markdown",
   "metadata": {},
   "source": [
    "**Tạo ra toàn bộ search space cho weight của 1 feature**"
   ]
  },
  {
   "cell_type": "code",
   "execution_count": 6,
   "metadata": {},
   "outputs": [
    {
     "name": "stdout",
     "output_type": "stream",
     "text": [
      "30\n"
     ]
    }
   ],
   "source": [
    "size = 10\n",
    "\n",
    "# generate all possible combinations of indices for the 1 and -1\n",
    "combinations = [(i, j) for i in range(size) for j in range(size) if i != j]\n",
    "\n",
    "# create the arrays using the combinations\n",
    "arrays = []\n",
    "for (i, j) in combinations:\n",
    "  arr = [0] * size\n",
    "  arr[i] = 1\n",
    "  arr[j] = -1\n",
    "  arrays.append(arr)\n",
    "\n",
    "# print the resulting arrays\n",
    "print(len(arrays))\n"
   ]
  },
  {
   "attachments": {},
   "cell_type": "markdown",
   "metadata": {},
   "source": [
    "**sinh ma trận co 3 giá trị 1 ,1 và -1**"
   ]
  },
  {
   "cell_type": "code",
   "execution_count": 3,
   "metadata": {},
   "outputs": [
    {
     "name": "stdout",
     "output_type": "stream",
     "text": [
      "(682640, 161)\n"
     ]
    }
   ],
   "source": [
    "import numpy as np\n",
    "from itertools import combinations\n",
    "\n",
    "# Generate all possible combinations of indices for the 1s and -1\n",
    "indices = combinations(range(161), 3)\n",
    "\n",
    "# Filter out combinations where the indices of the two 1s are the same\n",
    "indices = [x for x in indices if x[0] != x[1]]\n",
    "\n",
    "# Create an empty list to store the arrays\n",
    "arrays = []\n",
    "\n",
    "# Iterate over the combinations of indices\n",
    "for i, j, k in indices:\n",
    "  # Create a new array with 1s at the specified indices and -1 at the other index\n",
    "  arr = np.zeros(161)\n",
    "  arr[i] = 1\n",
    "  arr[j] = 1\n",
    "  arr[k] = -1\n",
    "  # Append the array to the list\n",
    "  arrays.append(arr)\n",
    "\n",
    "# Print the resulting list of arrays\n",
    "print(np.array(arrays).shape)\n"
   ]
  },
  {
   "cell_type": "markdown",
   "metadata": {},
   "source": [
    "**Sau khi sử dụng hàm Valid_Matrix**"
   ]
  },
  {
   "cell_type": "code",
   "execution_count": 12,
   "metadata": {},
   "outputs": [
    {
     "name": "stdout",
     "output_type": "stream",
     "text": [
      "41472\n",
      "142506\n",
      "rate of linearly independent submatrices:  0.29101932550208415\n"
     ]
    }
   ],
   "source": [
    "import itertools\n",
    "\n",
    "def all_submatrices_and_check(matrix, num_rows):\n",
    "    # Get the number of rows and columns in the matrix\n",
    "    # Iterate over all possible combinations of rows\n",
    "    for combination in itertools.combinations(range(30), num_rows):\n",
    "        # Create a new submatrix using the selected rows\n",
    "        submatrix = [matrix[row] for row in combination]\n",
    "        # Check if the submatrix is linearly independent\n",
    "        if is_linearly_independent(np.array(submatrix)):\n",
    "            # Yield the submatrix\n",
    "            yield np.array(submatrix)\n",
    "\n",
    "# Example usage\n",
    "all_submatris_check = []\n",
    "matrix = arrays\n",
    "for submatrix in all_submatrices_and_check(matrix, 5):\n",
    "        all_submatris_check.append(submatrix)\n",
    "        # print(submatrix)\n",
    "\n",
    "print(len(all_submatris_check))\n",
    "import itertools\n",
    "matrix = arrays\n",
    "\n",
    "def all_submatrices(matrix, num_rows):\n",
    "    # Get the number of rows and columns in the matrix\n",
    "    # Iterate over all possible combinations of rows\n",
    "    for combination in itertools.combinations(range(30), num_rows):\n",
    "        # Create a new submatrix using the selected rows\n",
    "        submatrix = [matrix[row] for row in combination]\n",
    "        # Check if the submatrix is linearly independent\n",
    "        # Yield the submatrix\n",
    "        yield np.array(submatrix)\n",
    "all_submatris = []\n",
    "for submatrix in all_submatrices(matrix, 5):\n",
    "        all_submatris.append(submatrix)\n",
    "print(len(all_submatris))\n",
    "print('rate of linearly independent submatrices: ', len(all_submatris_check)/len(all_submatris))"
   ]
  },
  {
   "cell_type": "markdown",
   "metadata": {},
   "source": [
    "**Tính số trận thắng của từng ma trận**"
   ]
  },
  {
   "cell_type": "code",
   "execution_count": 49,
   "metadata": {},
   "outputs": [
    {
     "name": "stdout",
     "output_type": "stream",
     "text": [
      "/Users/trancatkhanh/Downloads/GAME\n",
      "process : 252/252\r"
     ]
    }
   ],
   "source": [
    "%cd /Users/trancatkhanh/Downloads/GAME\n",
    "from base.Splendor_v3.env import *\n",
    "high_values_matrix = []\n",
    "k = 0\n",
    "for i in range(len(all_submatris)):\n",
    "    k +=1\n",
    "    perx = all_submatris[i].astype(np.float64)\n",
    "    @njit\n",
    "    def p0(state,per):\n",
    "        actions = getValidActions(state)\n",
    "        matran1 = per@state    \n",
    "        matran1 = 1*(matran1 >= 0)\n",
    "        if np.sum(matran1) == 5 and 0 in actions :\n",
    "            action = 0\n",
    "        return action,per\n",
    "    win1, x = numba_main_2(p0, 100,perx,0)\n",
    "    print('process : {}/{}'.format(k, len(all_submatris)), end='\\r')\n",
    "    high_values_matrix.append(win1)"
   ]
  },
  {
   "attachments": {},
   "cell_type": "markdown",
   "metadata": {},
   "source": [
    "# Thử lại số trận thắng\n"
   ]
  },
  {
   "cell_type": "code",
   "execution_count": null,
   "metadata": {},
   "outputs": [],
   "source": [
    "print(per1)"
   ]
  },
  {
   "cell_type": "code",
   "execution_count": 90,
   "metadata": {},
   "outputs": [],
   "source": [
    "import numpy as np\n",
    "from numba import njit \n",
    "#Khởi tạo weight \n",
    "perx = [np.zeros((60,getStateSize())),np.zeros((12,60))]\n",
    "for i in range(0,12):\n",
    "    for j in range(5):\n",
    "        perx[0][i*5+j][6+j] = 1\n",
    "        perx[0][i*5+j][11] = 0 \n",
    "        perx[0][i*5+j][12+j] = 1\n",
    "        perx[0][i*5+j][20+i*7+j] = -1\n",
    "for i in range(0,12):\n",
    "    for j in range(5):\n",
    "        perx[1][i][i*5+j] = 1\n",
    "for i in range(len(all_submatris)):\n",
    "    if (all_submatris[i]== perx[0][0:5].astype(int)).all():\n",
    "        print(i)\n"
   ]
  },
  {
   "cell_type": "code",
   "execution_count": 50,
   "metadata": {},
   "outputs": [],
   "source": [
    "per1 = all_submatris[high_values_matrix.index(max(high_values_matrix))].astype(np.float64)\n"
   ]
  },
  {
   "cell_type": "code",
   "execution_count": 16,
   "metadata": {},
   "outputs": [
    {
     "name": "stdout",
     "output_type": "stream",
     "text": [
      "[0.9288805  0.93778639 0.98036402 1.         0.89458567 0.89399649\n",
      " 0.89721242 0.89451654 0.89911454 0.8968883  0.89599888 0.89894841\n",
      " 0.90363768 0.89228768 0.89890005]\n",
      "62\n"
     ]
    }
   ],
   "source": [
    "from base.Splendor_v3.env import *\n",
    "import numpy as np\n",
    "bias1 = [np.random.rand(getActionSize()),np.zeros(getActionSize())]\n",
    "@njit()\n",
    "def p_bias(state,per):\n",
    "    actions = getValidActions(state)\n",
    "    actions *= per[0]\n",
    "    action = np.argmax(actions)\n",
    "    if getReward(state) == 1:\n",
    "        per[1] += per[0]\n",
    "    if getReward(state) == 0:\n",
    "        per[0] = np.random.rand(getActionSize())\n",
    "    return action,per\n",
    "\n",
    "win, bias = numba_main_2(p_bias, 50000,bias1,0)\n",
    "# Bias tối ưu \n",
    "bias_greedy = (bias[1]/np.max(bias[1]))\n",
    "print(bias_greedy)\n",
    "# Check tỷ lệ thắng của bias tối ưu \n",
    "@njit()\n",
    "def p_bias_optim(state,per):\n",
    "    actions = getValidActions(state)\n",
    "    actions *= bias_greedy\n",
    "    action = np.argmax(actions)\n",
    "    return action,per\n",
    "win, bias = numba_main_2(p_bias_optim, 100,bias1,0)\n",
    "print(win)"
   ]
  },
  {
   "cell_type": "code",
   "execution_count": 52,
   "metadata": {},
   "outputs": [
    {
     "name": "stdout",
     "output_type": "stream",
     "text": [
      "phần trăm trận thắng 1000 của action  0.44\n"
     ]
    }
   ],
   "source": [
    "@njit\n",
    "def p0(state,per):\n",
    "    actions = getValidActions(state)\n",
    "    matran1 = per@state    \n",
    "    matran1 = 1*(matran1 >= 0)\n",
    "    actions = np.where(actions == 1)[0]\n",
    "    if np.sum(matran1) == 5 and 0 in actions :\n",
    "        action = 0\n",
    "    else:\n",
    "        list_action2 = getValidActions(state)\n",
    "        action = np.argmax(list_action2*bias_greedy)\n",
    "    return action,per\n",
    "win1, x = numba_main_2(p0, 1000,per1,0)\n",
    "print('phần trăm trận thắng 1000 của action ',win1/1000)"
   ]
  }
 ],
 "metadata": {
  "kernelspec": {
   "display_name": "Python 3.9.7 ('base')",
   "language": "python",
   "name": "python3"
  },
  "language_info": {
   "codemirror_mode": {
    "name": "ipython",
    "version": 3
   },
   "file_extension": ".py",
   "mimetype": "text/x-python",
   "name": "python",
   "nbconvert_exporter": "python",
   "pygments_lexer": "ipython3",
   "version": "3.9.7"
  },
  "orig_nbformat": 4,
  "vscode": {
   "interpreter": {
    "hash": "ff2136a0fe6bc790f1b40d257e6b1bba23119827483ea2b7c12c8cc23c661a47"
   }
  }
 },
 "nbformat": 4,
 "nbformat_minor": 2
}
